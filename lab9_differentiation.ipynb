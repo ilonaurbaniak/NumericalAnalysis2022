{
  "nbformat": 4,
  "nbformat_minor": 0,
  "metadata": {
    "colab": {
      "name": "lab9_differentiation.ipynb",
      "provenance": [],
      "authorship_tag": "ABX9TyO1tMhltVAJ6kscDYuzDKT6",
      "include_colab_link": true
    },
    "kernelspec": {
      "name": "python3",
      "display_name": "Python 3"
    }
  },
  "cells": [
    {
      "cell_type": "markdown",
      "metadata": {
        "id": "view-in-github",
        "colab_type": "text"
      },
      "source": [
        "<a href=\"https://colab.research.google.com/github/marcinwolter/NumericalAnalysis2020/blob/master/lab9_differentiation.ipynb\" target=\"_parent\"><img src=\"https://colab.research.google.com/assets/colab-badge.svg\" alt=\"Open In Colab\"/></a>"
      ]
    },
    {
      "cell_type": "markdown",
      "metadata": {
        "id": "q-DI-Ka3ieVM",
        "colab_type": "text"
      },
      "source": [
        "# **Differentiation** - calculating the first derivative and the higher order derivatives"
      ]
    },
    {
      "cell_type": "code",
      "metadata": {
        "id": "O66d25NRiWHD",
        "colab_type": "code",
        "colab": {}
      },
      "source": [
        "import numpy as np\n",
        "\n",
        "# Define the finite step\n",
        "h = 0.01\n",
        "\n",
        "# Define method\n",
        "method = 'central'\n",
        "\n",
        "# Set range for plotting\n",
        "x_min = -2\n",
        "x_max =  8\n",
        "\n",
        "# Define function\n",
        "def f(x):\n",
        "    return 1+(1/2)*np.tanh(x)\n"
      ],
      "execution_count": 0,
      "outputs": []
    },
    {
      "cell_type": "code",
      "metadata": {
        "id": "ZekcpIXisTag",
        "colab_type": "code",
        "colab": {}
      },
      "source": [
        "\n",
        "# First derivative\n",
        "def first_c(f,a,method='central',h=0.01):\n",
        "    '''Compute the difference formula for f'(a) with step size h.\n",
        "\n",
        "    Parameters\n",
        "    ----------\n",
        "    f : function\n",
        "    a : number\n",
        "        Compute derivative at x = a\n",
        "    method : string\n",
        "        Difference formula: 'forward', 'backward' or 'central'\n",
        "    h : number\n",
        "        Step size in difference formula\n",
        "\n",
        "    Returns\n",
        "    -------\n",
        "    float\n",
        "        Difference formula:\n",
        "            central: f(a+h) - f(a-h))/2h\n",
        "            forward: f(a+h) - f(a))/h\n",
        "            backward: f(a) - f(a-h))/h            \n",
        "    '''\n",
        "    if method == 'central':\n",
        "        return (f(a + h) - f(a - h))/(2*h)\n",
        "    elif method == 'forward':\n",
        "        return (f(a + h) - f(a))/h\n",
        "    elif method == 'backward':\n",
        "        return (f(a) - f(a - h))/h\n",
        "    else:\n",
        "        raise ValueError(\"Method must be 'central', 'forward' or 'backward'.\")\n"
      ],
      "execution_count": 0,
      "outputs": []
    },
    {
      "cell_type": "code",
      "metadata": {
        "id": "39Reh83gsQN4",
        "colab_type": "code",
        "colab": {}
      },
      "source": [
        "\n",
        "# Second derivative\n",
        "def second_c(f,a,method='central',h=0.01):\n",
        "\n",
        "    if method == 'central':\n",
        "        return (first_c(f,a + h,method,h) - first_c(f,a - h,method,h))/(2*h)\n",
        "    elif method == 'forward':\n",
        "        return (first_c(f,a + h,method,h) - first_c(f,a,method,h))/h\n",
        "    elif method == 'backward':\n",
        "        return (first_c(f,a,method,h) - first_c(f,a - h,method,h))/h\n",
        "    else:\n",
        "        raise ValueError(\"Method must be 'central', 'forward' or 'backward'.\")\n"
      ],
      "execution_count": 0,
      "outputs": []
    },
    {
      "cell_type": "code",
      "metadata": {
        "id": "w7X3LDzgsOI3",
        "colab_type": "code",
        "colab": {}
      },
      "source": [
        "\n",
        "# Third derivative\n",
        "def third_c(f,a,method='central',h=0.01):\n",
        "\n",
        "    if method == 'central':\n",
        "        return (second_c(f,a + h,method,h) - second_c(f,a - h,method,h))/(2*h)\n",
        "    elif method == 'forward':\n",
        "        return (second_c(f,a + h,method,h) - second_c(f,a,method,h))/h\n",
        "    elif method == 'backward':\n",
        "        return (second_c(f,a,method,h) - second_c(f,a - h,method,h))/h\n",
        "    else:\n",
        "        raise ValueError(\"Method must be 'central', 'forward' or 'backward'.\")\n",
        "\n"
      ],
      "execution_count": 0,
      "outputs": []
    },
    {
      "cell_type": "markdown",
      "metadata": {
        "id": "gr4cv36-Ecfr",
        "colab_type": "text"
      },
      "source": [
        "# **Print the function and it's derivatives**"
      ]
    },
    {
      "cell_type": "code",
      "metadata": {
        "id": "aBRXI5PtsMGV",
        "colab_type": "code",
        "outputId": "699c3643-1a24-4285-c692-a1890acb50a1",
        "colab": {
          "base_uri": "https://localhost:8080/",
          "height": 243
        }
      },
      "source": [
        "\n",
        "\n",
        "print(\"Using central difference: \\n\")\n",
        "print(\"     x       function     first_c      secind_c              third_c\")\n",
        "\n",
        "for x in range(x_min,x_max):\n",
        "    print(x, f(x), first_c(f,x,method,h), second_c(f,x,method,h), third_c(f,x,method,h))\n",
        "\n"
      ],
      "execution_count": 0,
      "outputs": [
        {
          "output_type": "stream",
          "text": [
            "Using central difference: \n",
            "\n",
            "     x       function     first_c      secind_c              third_c\n",
            "-2 0.5179862099620915 0.03532751790103483 0.06811650019256099 0.1263413744040376\n",
            "-1 0.6192029220221176 0.2099923507978163 0.31983891634668193 0.31067442472776374\n",
            "0 1.0 0.4999833339999704 0.0 -0.999600147252866\n",
            "1 1.3807970779778824 0.2099923507978163 -0.31983891634668193 0.31067442471388595\n",
            "2 1.4820137900379085 0.03532751790102928 -0.06811650019256099 0.12634137444567095\n",
            "3 1.4975273768433652 0.0049333425897857275 -0.009818517464621479 0.019443715804090544\n",
            "4 1.4996646498695334 0.0006705199508516557 -0.001340229270896387 0.002677037896914314\n",
            "5 1.4999546021312975 9.079766671860057e-05 -0.0001815909406177596 0.0003631400735670809\n",
            "6 1.4999938558253978 1.2289092898853937e-05 -2.457952230638938e-05 4.916117513076301e-05\n",
            "7 1.4999991684719722 1.6631655497256759e-06 -3.3265468157850364e-06 6.653483319851716e-06\n"
          ],
          "name": "stdout"
        }
      ]
    },
    {
      "cell_type": "markdown",
      "metadata": {
        "id": "SrEsgKsYERNM",
        "colab_type": "text"
      },
      "source": [
        "# **Plot the function and it's derivatives**"
      ]
    },
    {
      "cell_type": "code",
      "metadata": {
        "id": "Etcry6FJvnDu",
        "colab_type": "code",
        "outputId": "3386d406-c241-4518-b4aa-5692a15143a4",
        "colab": {
          "base_uri": "https://localhost:8080/",
          "height": 520
        }
      },
      "source": [
        "# Plot the function and it's derivatives\n",
        "import matplotlib.pyplot as plt\n",
        "\n",
        "\n",
        "plt.figure(figsize=(12,8))\n",
        "plt.title(\"Function and it's derivatives\",fontsize=16) \n",
        "\n",
        "xlin = np.linspace(x_min, x_max, num=100)\n",
        "plt.plot(xlin,f(xlin),linewidth=3,color='red',linestyle='solid', label=\"function\")\n",
        "plt.plot(xlin,first_c(f,xlin,method,h),linewidth=3,color='green',linestyle='solid', label=\"first_c\")\n",
        "plt.plot(xlin,second_c(f,xlin,method,h),linewidth=3,color='blue',linestyle='solid', label=\"second_c\")\n",
        "plt.plot(xlin,third_c(f,xlin,method,h),linewidth=3,color='orange',linestyle='solid', label=\"third_c\")\n",
        "\n",
        "\n",
        "plt.legend(prop={'size':14})\n",
        "\n",
        "plt.xlabel('$x$',fontsize=15)\n",
        "plt.ylabel('$y$',fontsize=15);\n",
        "\n",
        "    \n",
        "plt.show()"
      ],
      "execution_count": 0,
      "outputs": [
        {
          "output_type": "display_data",
          "data": {
            "image/png": "[encoded data removed]",
            "text/plain": [
              "<Figure size 864x576 with 1 Axes>"
            ]
          },
          "metadata": {
            "tags": [],
            "needs_background": "light"
          }
        }
      ]
    }
  ]
}