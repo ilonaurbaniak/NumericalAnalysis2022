{
  "nbformat": 4,
  "nbformat_minor": 0,
  "metadata": {
    "colab": {
      "name": "MariaChiara_Untitled0.ipynb",
      "provenance": [],
      "collapsed_sections": [],
      "include_colab_link": true
    },
    "kernelspec": {
      "name": "python3",
      "display_name": "Python 3"
    }
  },
  "cells": [
    {
      "cell_type": "markdown",
      "metadata": {
        "id": "view-in-github",
        "colab_type": "text"
      },
      "source": [
        "<a href=\"https://colab.research.google.com/github/marcinwolter/NumericalAnalysis2020/blob/master/MariaChiara_Untitled0.ipynb\" target=\"_parent\"><img src=\"https://colab.research.google.com/assets/colab-badge.svg\" alt=\"Open In Colab\"/></a>"
      ]
    },
    {
      "cell_type": "code",
      "metadata": {
        "id": "X0f6Sg7ZdIA_",
        "colab_type": "code",
        "outputId": "1cbb5769-e6be-430b-8e89-fca268569b9a",
        "colab": {
          "base_uri": "https://localhost:8080/",
          "height": 312
        }
      },
      "source": [
        "# Fixed Point Iteration Method\n",
        "# Importing math to use sqrt function \n",
        "import math\n",
        "def f(S, x):\n",
        "   return x*x -S\n",
        "\n",
        "# Re-writing f(x)=0 to x = g(x)\n",
        "def g(S, x):\n",
        "   return (x+S/x)/2.\n",
        "\n",
        "# Implementing Fixed Point Iteration Method \n",
        "def fixedPointIteration(S, x0, e, N):\n",
        "   print('\\n\\n*** FIXED POINT ITERATION ***')\n",
        "   step = 1\n",
        "   flag = 1\n",
        "   condition = True\n",
        "   while condition:\n",
        "      x1 = g(S, x0)\n",
        "      print('Iteration-%d, x1 = %0.8f and f(x1) = %0.8f' % (step, x1, f(S, x1)))\n",
        "      x0 = x1\n",
        "      nn.append(step)\n",
        "      result.append(x1)\n",
        "      step = step + 1\n",
        "      \n",
        "      if step > N:\n",
        "         flag=0\n",
        "         break\n",
        "      condition = abs(f(S, x1)) > e\n",
        "   if flag==1:\n",
        "       print('\\nRequired root is: %0.8f' % x1)\n",
        "   else:\n",
        "       print('\\nNot Convergent.')\n",
        "\n",
        "\n",
        "\n",
        "#Input Section\n",
        "S = input('Enter S (sqrt(S) will be found): ')\n",
        "x0= input('Enter Guess: ')\n",
        "e= input ('Tolerable Error:')\n",
        "N= input('Maximum number of steps:')\n",
        "\n",
        "# Converting S, x0 and e to float\n",
        "S = float(S)\n",
        "x0=float(x0)\n",
        "e=float(e)\n",
        "\n",
        "# Converting N to integer\n",
        "N=int(N)\n",
        "\n",
        "# Note: You can combine above three section like this\n",
        "# x0= float(input('Enter Guess:'))\n",
        "# e= float(input('Tolerable Error: '))\n",
        "# N= int(input('Maximum Step: '))\n",
        "\n",
        "\n",
        "result = []\n",
        "nn = []\n",
        "\n",
        "# Starting fixed point iteration\n",
        "fixedPointIteration(S, x0, e, N)\n",
        "\n",
        "\n",
        "\n",
        "\n",
        "\n",
        "\n",
        "\n",
        "\n"
      ],
      "execution_count": 1,
      "outputs": [
        {
          "output_type": "stream",
          "text": [
            "Enter S (sqrt(S) will be found): 5\n",
            "Enter Guess: 50\n",
            "Tolerable Error:0.0001\n",
            "Maximum number of steps:50\n",
            "\n",
            "\n",
            "*** FIXED POINT ITERATION ***\n",
            "Iteration-1, x1 = 25.05000000 and f(x1) = 622.50250000\n",
            "Iteration-2, x1 = 12.62480040 and f(x1) = 154.38558512\n",
            "Iteration-3, x1 = 6.51042313 and f(x1) = 37.38560936\n",
            "Iteration-4, x1 = 3.63921118 and f(x1) = 8.24385805\n",
            "Iteration-5, x1 = 2.50656765 and f(x1) = 1.28288138\n",
            "Iteration-6, x1 = 2.25066365 and f(x1) = 0.06548686\n",
            "Iteration-7, x1 = 2.23611530 and f(x1) = 0.00021165\n",
            "Iteration-8, x1 = 2.23606798 and f(x1) = 0.00000000\n",
            "\n",
            "Required root is: 2.23606798\n"
          ],
          "name": "stdout"
        }
      ]
    }
  ]
}